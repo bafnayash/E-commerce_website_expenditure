{
 "cells": [
  {
   "cell_type": "markdown",
   "metadata": {},
   "source": [
    "# Amount Spend by a User on an E-Commerce Website\n",
    "In this machine learning project, I have collected the dataset from Kaggle (https://www.kaggle.com/iyadavvaibhav/ecommerce-customer-device-usage?select=Ecommerce+Customers) and I will be using Machine Learning to make predictions of amount spent by a user on E-commerce Website. Later, in order to apply the information gained in this study in real life, a GUI application was made using tkinter of python which takes in required parameters from the user and then displays the predcited amount spent by the user on E-commerce Website."
   ]
  },
  {
   "cell_type": "markdown",
   "metadata": {},
   "source": [
    "## Importing Libraries"
   ]
  },
  {
   "cell_type": "code",
   "execution_count": 1,
   "metadata": {},
   "outputs": [],
   "source": [
    "import numpy as np\n",
    "import pandas as pd\n",
    "import matplotlib.pyplot as plt\n",
    "import seaborn as sns\n",
    "import warnings\n",
    "warnings.filterwarnings(\"ignore\")\n",
    "\n",
    "from sklearn.model_selection import train_test_split\n",
    "from sklearn.metrics import mean_squared_error\n",
    "from sklearn.compose import TransformedTargetRegressor\n",
    "from sklearn.preprocessing import StandardScaler\n",
    "from sklearn.preprocessing import PolynomialFeatures\n",
    "from sklearn.linear_model import LinearRegression\n",
    "from sklearn.svm import SVR\n",
    "from sklearn.ensemble import RandomForestRegressor"
   ]
  },
  {
   "cell_type": "markdown",
   "metadata": {},
   "source": [
    "## Loading Dataset\n",
    "Now I will load the dataset which I have stored in the local directory with the name 'Ecommerce_customers'."
   ]
  },
  {
   "cell_type": "code",
   "execution_count": 2,
   "metadata": {},
   "outputs": [],
   "source": [
    "#Loading dataset\n",
    "dataset = pd.read_csv(\"Ecommerce_customers\")"
   ]
  },
  {
   "cell_type": "markdown",
   "metadata": {},
   "source": [
    "## Data Exploration"
   ]
  },
  {
   "cell_type": "code",
   "execution_count": 3,
   "metadata": {},
   "outputs": [
    {
     "name": "stdout",
     "output_type": "stream",
     "text": [
      "Dimensions of dataset: (500, 8)\n"
     ]
    }
   ],
   "source": [
    "print(f\"Dimensions of dataset: {dataset.shape}\")"
   ]
  },
  {
   "cell_type": "code",
   "execution_count": 4,
   "metadata": {},
   "outputs": [
    {
     "data": {
      "text/html": [
       "<div>\n",
       "<style scoped>\n",
       "    .dataframe tbody tr th:only-of-type {\n",
       "        vertical-align: middle;\n",
       "    }\n",
       "\n",
       "    .dataframe tbody tr th {\n",
       "        vertical-align: top;\n",
       "    }\n",
       "\n",
       "    .dataframe thead th {\n",
       "        text-align: right;\n",
       "    }\n",
       "</style>\n",
       "<table border=\"1\" class=\"dataframe\">\n",
       "  <thead>\n",
       "    <tr style=\"text-align: right;\">\n",
       "      <th></th>\n",
       "      <th>Email</th>\n",
       "      <th>Address</th>\n",
       "      <th>Avatar</th>\n",
       "      <th>Avg. Session Length</th>\n",
       "      <th>Time on App</th>\n",
       "      <th>Time on Website</th>\n",
       "      <th>Length of Membership</th>\n",
       "      <th>Yearly Amount Spent</th>\n",
       "    </tr>\n",
       "  </thead>\n",
       "  <tbody>\n",
       "    <tr>\n",
       "      <th>0</th>\n",
       "      <td>mstephenson@fernandez.com</td>\n",
       "      <td>835 Frank Tunnel\\nWrightmouth, MI 82180-9605</td>\n",
       "      <td>Violet</td>\n",
       "      <td>34.497268</td>\n",
       "      <td>12.655651</td>\n",
       "      <td>39.577668</td>\n",
       "      <td>4.082621</td>\n",
       "      <td>587.951054</td>\n",
       "    </tr>\n",
       "    <tr>\n",
       "      <th>1</th>\n",
       "      <td>hduke@hotmail.com</td>\n",
       "      <td>4547 Archer Common\\nDiazchester, CA 06566-8576</td>\n",
       "      <td>DarkGreen</td>\n",
       "      <td>31.926272</td>\n",
       "      <td>11.109461</td>\n",
       "      <td>37.268959</td>\n",
       "      <td>2.664034</td>\n",
       "      <td>392.204933</td>\n",
       "    </tr>\n",
       "    <tr>\n",
       "      <th>2</th>\n",
       "      <td>pallen@yahoo.com</td>\n",
       "      <td>24645 Valerie Unions Suite 582\\nCobbborough, D...</td>\n",
       "      <td>Bisque</td>\n",
       "      <td>33.000915</td>\n",
       "      <td>11.330278</td>\n",
       "      <td>37.110597</td>\n",
       "      <td>4.104543</td>\n",
       "      <td>487.547505</td>\n",
       "    </tr>\n",
       "    <tr>\n",
       "      <th>3</th>\n",
       "      <td>riverarebecca@gmail.com</td>\n",
       "      <td>1414 David Throughway\\nPort Jason, OH 22070-1220</td>\n",
       "      <td>SaddleBrown</td>\n",
       "      <td>34.305557</td>\n",
       "      <td>13.717514</td>\n",
       "      <td>36.721283</td>\n",
       "      <td>3.120179</td>\n",
       "      <td>581.852344</td>\n",
       "    </tr>\n",
       "    <tr>\n",
       "      <th>4</th>\n",
       "      <td>mstephens@davidson-herman.com</td>\n",
       "      <td>14023 Rodriguez Passage\\nPort Jacobville, PR 3...</td>\n",
       "      <td>MediumAquaMarine</td>\n",
       "      <td>33.330673</td>\n",
       "      <td>12.795189</td>\n",
       "      <td>37.536653</td>\n",
       "      <td>4.446308</td>\n",
       "      <td>599.406092</td>\n",
       "    </tr>\n",
       "  </tbody>\n",
       "</table>\n",
       "</div>"
      ],
      "text/plain": [
       "                           Email  \\\n",
       "0      mstephenson@fernandez.com   \n",
       "1              hduke@hotmail.com   \n",
       "2               pallen@yahoo.com   \n",
       "3        riverarebecca@gmail.com   \n",
       "4  mstephens@davidson-herman.com   \n",
       "\n",
       "                                             Address            Avatar  \\\n",
       "0       835 Frank Tunnel\\nWrightmouth, MI 82180-9605            Violet   \n",
       "1     4547 Archer Common\\nDiazchester, CA 06566-8576         DarkGreen   \n",
       "2  24645 Valerie Unions Suite 582\\nCobbborough, D...            Bisque   \n",
       "3   1414 David Throughway\\nPort Jason, OH 22070-1220       SaddleBrown   \n",
       "4  14023 Rodriguez Passage\\nPort Jacobville, PR 3...  MediumAquaMarine   \n",
       "\n",
       "   Avg. Session Length  Time on App  Time on Website  Length of Membership  \\\n",
       "0            34.497268    12.655651        39.577668              4.082621   \n",
       "1            31.926272    11.109461        37.268959              2.664034   \n",
       "2            33.000915    11.330278        37.110597              4.104543   \n",
       "3            34.305557    13.717514        36.721283              3.120179   \n",
       "4            33.330673    12.795189        37.536653              4.446308   \n",
       "\n",
       "   Yearly Amount Spent  \n",
       "0           587.951054  \n",
       "1           392.204933  \n",
       "2           487.547505  \n",
       "3           581.852344  \n",
       "4           599.406092  "
      ]
     },
     "execution_count": 4,
     "metadata": {},
     "output_type": "execute_result"
    }
   ],
   "source": [
    "dataset.head()"
   ]
  },
  {
   "cell_type": "code",
   "execution_count": 5,
   "metadata": {},
   "outputs": [
    {
     "name": "stdout",
     "output_type": "stream",
     "text": [
      "<class 'pandas.core.frame.DataFrame'>\n",
      "RangeIndex: 500 entries, 0 to 499\n",
      "Data columns (total 8 columns):\n",
      " #   Column                Non-Null Count  Dtype  \n",
      "---  ------                --------------  -----  \n",
      " 0   Email                 500 non-null    object \n",
      " 1   Address               500 non-null    object \n",
      " 2   Avatar                500 non-null    object \n",
      " 3   Avg. Session Length   500 non-null    float64\n",
      " 4   Time on App           500 non-null    float64\n",
      " 5   Time on Website       500 non-null    float64\n",
      " 6   Length of Membership  500 non-null    float64\n",
      " 7   Yearly Amount Spent   500 non-null    float64\n",
      "dtypes: float64(5), object(3)\n",
      "memory usage: 31.4+ KB\n"
     ]
    }
   ],
   "source": [
    "dataset.info()"
   ]
  },
  {
   "cell_type": "code",
   "execution_count": 6,
   "metadata": {},
   "outputs": [
    {
     "name": "stdout",
     "output_type": "stream",
     "text": [
      "Statistics of dataset: \n"
     ]
    },
    {
     "data": {
      "text/html": [
       "<div>\n",
       "<style scoped>\n",
       "    .dataframe tbody tr th:only-of-type {\n",
       "        vertical-align: middle;\n",
       "    }\n",
       "\n",
       "    .dataframe tbody tr th {\n",
       "        vertical-align: top;\n",
       "    }\n",
       "\n",
       "    .dataframe thead th {\n",
       "        text-align: right;\n",
       "    }\n",
       "</style>\n",
       "<table border=\"1\" class=\"dataframe\">\n",
       "  <thead>\n",
       "    <tr style=\"text-align: right;\">\n",
       "      <th></th>\n",
       "      <th>Avg. Session Length</th>\n",
       "      <th>Time on App</th>\n",
       "      <th>Time on Website</th>\n",
       "      <th>Length of Membership</th>\n",
       "      <th>Yearly Amount Spent</th>\n",
       "    </tr>\n",
       "  </thead>\n",
       "  <tbody>\n",
       "    <tr>\n",
       "      <th>count</th>\n",
       "      <td>500.000000</td>\n",
       "      <td>500.000000</td>\n",
       "      <td>500.000000</td>\n",
       "      <td>500.000000</td>\n",
       "      <td>500.000000</td>\n",
       "    </tr>\n",
       "    <tr>\n",
       "      <th>mean</th>\n",
       "      <td>33.053194</td>\n",
       "      <td>12.052488</td>\n",
       "      <td>37.060445</td>\n",
       "      <td>3.533462</td>\n",
       "      <td>499.314038</td>\n",
       "    </tr>\n",
       "    <tr>\n",
       "      <th>std</th>\n",
       "      <td>0.992563</td>\n",
       "      <td>0.994216</td>\n",
       "      <td>1.010489</td>\n",
       "      <td>0.999278</td>\n",
       "      <td>79.314782</td>\n",
       "    </tr>\n",
       "    <tr>\n",
       "      <th>min</th>\n",
       "      <td>29.532429</td>\n",
       "      <td>8.508152</td>\n",
       "      <td>33.913847</td>\n",
       "      <td>0.269901</td>\n",
       "      <td>256.670582</td>\n",
       "    </tr>\n",
       "    <tr>\n",
       "      <th>25%</th>\n",
       "      <td>32.341822</td>\n",
       "      <td>11.388153</td>\n",
       "      <td>36.349257</td>\n",
       "      <td>2.930450</td>\n",
       "      <td>445.038277</td>\n",
       "    </tr>\n",
       "    <tr>\n",
       "      <th>50%</th>\n",
       "      <td>33.082008</td>\n",
       "      <td>11.983231</td>\n",
       "      <td>37.069367</td>\n",
       "      <td>3.533975</td>\n",
       "      <td>498.887875</td>\n",
       "    </tr>\n",
       "    <tr>\n",
       "      <th>75%</th>\n",
       "      <td>33.711985</td>\n",
       "      <td>12.753850</td>\n",
       "      <td>37.716432</td>\n",
       "      <td>4.126502</td>\n",
       "      <td>549.313828</td>\n",
       "    </tr>\n",
       "    <tr>\n",
       "      <th>max</th>\n",
       "      <td>36.139662</td>\n",
       "      <td>15.126994</td>\n",
       "      <td>40.005182</td>\n",
       "      <td>6.922689</td>\n",
       "      <td>765.518462</td>\n",
       "    </tr>\n",
       "  </tbody>\n",
       "</table>\n",
       "</div>"
      ],
      "text/plain": [
       "       Avg. Session Length  Time on App  Time on Website  \\\n",
       "count           500.000000   500.000000       500.000000   \n",
       "mean             33.053194    12.052488        37.060445   \n",
       "std               0.992563     0.994216         1.010489   \n",
       "min              29.532429     8.508152        33.913847   \n",
       "25%              32.341822    11.388153        36.349257   \n",
       "50%              33.082008    11.983231        37.069367   \n",
       "75%              33.711985    12.753850        37.716432   \n",
       "max              36.139662    15.126994        40.005182   \n",
       "\n",
       "       Length of Membership  Yearly Amount Spent  \n",
       "count            500.000000           500.000000  \n",
       "mean               3.533462           499.314038  \n",
       "std                0.999278            79.314782  \n",
       "min                0.269901           256.670582  \n",
       "25%                2.930450           445.038277  \n",
       "50%                3.533975           498.887875  \n",
       "75%                4.126502           549.313828  \n",
       "max                6.922689           765.518462  "
      ]
     },
     "execution_count": 6,
     "metadata": {},
     "output_type": "execute_result"
    }
   ],
   "source": [
    "print(\"Statistics of dataset: \")\n",
    "dataset.describe()"
   ]
  },
  {
   "cell_type": "markdown",
   "metadata": {},
   "source": [
    "## Data Visualization\n",
    "In order to better understand the data, I will be using data visualization techniques like histogram and heatmaps."
   ]
  },
  {
   "cell_type": "code",
   "execution_count": 7,
   "metadata": {},
   "outputs": [
    {
     "data": {
      "text/plain": [
       "array([[<matplotlib.axes._subplots.AxesSubplot object at 0x000001D84E3B1C48>,\n",
       "        <matplotlib.axes._subplots.AxesSubplot object at 0x000001D84E163388>],\n",
       "       [<matplotlib.axes._subplots.AxesSubplot object at 0x000001D84EB1F6C8>,\n",
       "        <matplotlib.axes._subplots.AxesSubplot object at 0x000001D84EB58808>],\n",
       "       [<matplotlib.axes._subplots.AxesSubplot object at 0x000001D84EB8F908>,\n",
       "        <matplotlib.axes._subplots.AxesSubplot object at 0x000001D84EBC8A08>]],\n",
       "      dtype=object)"
      ]
     },
     "execution_count": 7,
     "metadata": {},
     "output_type": "execute_result"
    },
    {
     "data": {
      "text/plain": [
       "<Figure size 1440x1440 with 0 Axes>"
      ]
     },
     "metadata": {},
     "output_type": "display_data"
    },
    {
     "data": {
      "image/png": "[encoded data removed]",
      "text/plain": [
       "<Figure size 432x288 with 6 Axes>"
      ]
     },
     "metadata": {
      "needs_background": "light"
     },
     "output_type": "display_data"
    }
   ],
   "source": [
    "#Histogram\n",
    "plt.figure(figsize = (20,20))\n",
    "dataset.hist()"
   ]
  },
  {
   "cell_type": "code",
   "execution_count": 8,
   "metadata": {},
   "outputs": [
    {
     "data": {
      "text/plain": [
       "<matplotlib.axes._subplots.AxesSubplot at 0x1d84ed9cec8>"
      ]
     },
     "execution_count": 8,
     "metadata": {},
     "output_type": "execute_result"
    },
    {
     "data": {
      "image/png": "[encoded data removed]",
      "text/plain": [
       "<Figure size 432x288 with 2 Axes>"
      ]
     },
     "metadata": {
      "needs_background": "light"
     },
     "output_type": "display_data"
    }
   ],
   "source": [
    "#Heatmap\n",
    "correlation_matrix = dataset.corr().round(2)\n",
    "sns.heatmap(data = correlation_matrix, annot = True)"
   ]
  },
  {
   "cell_type": "markdown",
   "metadata": {},
   "source": [
    "## Data Pre-Processing\n",
    "As the columns of email, address and avatar do not affect the target variable, we do not include them in the list of independent variables. Here, we will split the dataset into independent and dependent variables and then split it into train and test data."
   ]
  },
  {
   "cell_type": "code",
   "execution_count": 9,
   "metadata": {},
   "outputs": [
    {
     "name": "stdout",
     "output_type": "stream",
     "text": [
      "Shape of X: (500, 4)\n",
      "Shape of Y: (500, 1)\n"
     ]
    }
   ],
   "source": [
    "X = dataset.values[:,3:7]\n",
    "Y = dataset.values[:, 7:]\n",
    "print(f\"Shape of X: {X.shape}\")\n",
    "print(f\"Shape of Y: {Y.shape}\")\n",
    "#Splitting the dataset into train and test data\n",
    "X_train, X_test, Y_train, Y_test = train_test_split(X, Y, test_size = 0.2, random_state=0)"
   ]
  },
  {
   "cell_type": "markdown",
   "metadata": {},
   "source": [
    "## Machine Learning Models"
   ]
  },
  {
   "cell_type": "markdown",
   "metadata": {},
   "source": [
    "#### Linear Regression Model"
   ]
  },
  {
   "cell_type": "code",
   "execution_count": 10,
   "metadata": {},
   "outputs": [],
   "source": [
    "lrm = TransformedTargetRegressor(regressor = LinearRegression(), transformer = StandardScaler())\n",
    "lrm.fit(X_train, Y_train)\n",
    "predict = lrm.predict(X_test)\n",
    "lrm_score = mean_squared_error(Y_test, predict)\n",
    "#out = np.concatenate((Y_test, predict), axis=1)\n",
    "#print(out)"
   ]
  },
  {
   "cell_type": "code",
   "execution_count": 11,
   "metadata": {},
   "outputs": [
    {
     "name": "stdout",
     "output_type": "stream",
     "text": [
      "The mean square error for Linear Regression Model is 92.89.\n"
     ]
    }
   ],
   "source": [
    "print(\"The mean square error for Linear Regression Model is %.2f.\" %(lrm_score.round(2)))"
   ]
  },
  {
   "cell_type": "markdown",
   "metadata": {},
   "source": [
    "#### Polynomial Regression Model"
   ]
  },
  {
   "cell_type": "code",
   "execution_count": 12,
   "metadata": {},
   "outputs": [],
   "source": [
    "polynomial_scores = []\n",
    "for i in range(2,6):\n",
    "    polynomial = PolynomialFeatures(degree = i)\n",
    "    X_poly_train = polynomial.fit_transform(X_train)\n",
    "    X_poly_test = polynomial.fit_transform(X_test)\n",
    "    prm = TransformedTargetRegressor(regressor = LinearRegression(), transformer = StandardScaler())\n",
    "    prm.fit(X_poly_train, Y_train)\n",
    "    predict = prm.predict(X_poly_test)\n",
    "    polynomial_scores.append(mean_squared_error(Y_test, predict))\n",
    "pmr_score = polynomial_scores[0]"
   ]
  },
  {
   "cell_type": "code",
   "execution_count": 13,
   "metadata": {},
   "outputs": [
    {
     "data": {
      "image/png": "[encoded data removed]",
      "text/plain": [
       "<Figure size 720x720 with 1 Axes>"
      ]
     },
     "metadata": {
      "needs_background": "light"
     },
     "output_type": "display_data"
    }
   ],
   "source": [
    "#Plotting the graph between different degree of polynomial vs mean square error\n",
    "plt.figure(figsize = (10, 10))\n",
    "plt.plot([i for i in range(2,6)], polynomial_scores, color = 'red')\n",
    "for i in range(2,6):\n",
    "    plt.text(i, polynomial_scores[i-2], (i, polynomial_scores[i-2].round(2)))\n",
    "plt.xticks([i for i in range(1,6)])\n",
    "plt.xlabel(\"Degree of Polynomial\")\n",
    "plt.ylabel(\"Mean Square Error\")\n",
    "plt.title(\"Polynomial Regression Model Scores for different degree of polynomial\")\n",
    "plt.show()"
   ]
  },
  {
   "cell_type": "code",
   "execution_count": 14,
   "metadata": {},
   "outputs": [
    {
     "name": "stdout",
     "output_type": "stream",
     "text": [
      "The mean square error for Polynomial Regression Model is 100.89.\n"
     ]
    }
   ],
   "source": [
    "print(\"The mean square error for Polynomial Regression Model is %.2f.\" %(polynomial_scores[0].round(2)))"
   ]
  },
  {
   "cell_type": "markdown",
   "metadata": {},
   "source": [
    "#### Support Vector Regression Model"
   ]
  },
  {
   "cell_type": "code",
   "execution_count": 15,
   "metadata": {},
   "outputs": [],
   "source": [
    "svr_scores = []\n",
    "kernels = ['linear', 'poly', 'rbf', 'sigmoid']\n",
    "for i in range(len(kernels)):\n",
    "    svr = TransformedTargetRegressor(regressor = SVR(kernel = kernels[i]), transformer = StandardScaler())\n",
    "    svr.fit(X_train, Y_train)\n",
    "    predict = svr.predict(X_test)\n",
    "    svr_scores.append(mean_squared_error(Y_test, predict))"
   ]
  },
  {
   "cell_type": "code",
   "execution_count": 16,
   "metadata": {},
   "outputs": [
    {
     "data": {
      "image/png": "[encoded data removed]",
      "text/plain": [
       "<Figure size 720x720 with 1 Axes>"
      ]
     },
     "metadata": {
      "needs_background": "light"
     },
     "output_type": "display_data"
    }
   ],
   "source": [
    "#Plotting the bar grapgh for Support Vector Classifier for different kernels vs mean square error\n",
    "plt.figure(figsize=(10,10))\n",
    "plt.bar(kernels, svr_scores, color=['black', 'yellow', 'red', 'grey'])\n",
    "for i in range(len(kernels)):\n",
    "    plt.text(i, svr_scores[i], (svr_scores[i].round(2)))\n",
    "plt.title('Support Vector Regression Model scores for different Kernels')\n",
    "plt.xlabel('Kernels')\n",
    "plt.ylabel('Mean Square Error')\n",
    "svr_score = svr_scores[0]"
   ]
  },
  {
   "cell_type": "code",
   "execution_count": 17,
   "metadata": {},
   "outputs": [
    {
     "name": "stdout",
     "output_type": "stream",
     "text": [
      "The mean square error for Support Vector Regression Model is 93.36 with linear kernel.\n"
     ]
    }
   ],
   "source": [
    "print(\"The mean square error for Support Vector Regression Model is {} with {} kernel.\".format(svr_scores[0].round(2), 'linear'))"
   ]
  },
  {
   "cell_type": "markdown",
   "metadata": {},
   "source": [
    "#### Random Forest Regression Model"
   ]
  },
  {
   "cell_type": "code",
   "execution_count": 18,
   "metadata": {},
   "outputs": [],
   "source": [
    "rf_scores = []\n",
    "estimators = [1, 10, 50 ,100, 500, 1000, 5000]\n",
    "for i in range(len(estimators)):\n",
    "    rf = TransformedTargetRegressor(regressor = RandomForestRegressor(n_estimators = estimators[i]), transformer = StandardScaler())\n",
    "    rf.fit(X_train, Y_train)\n",
    "    predict = rf.predict(X_test)\n",
    "    rf_scores.append(mean_squared_error(Y_test, predict))"
   ]
  },
  {
   "cell_type": "code",
   "execution_count": 19,
   "metadata": {},
   "outputs": [
    {
     "data": {
      "image/png": "[encoded data removed]",
      "text/plain": [
       "<Figure size 720x720 with 1 Axes>"
      ]
     },
     "metadata": {
      "needs_background": "light"
     },
     "output_type": "display_data"
    }
   ],
   "source": [
    "#Plotting the bar graph for Random Forest Regression Model scores for different kernels\n",
    "plt.figure(figsize=(10,10))\n",
    "plt.bar([i for i in range(len(estimators))], rf_scores, color=['grey', 'maroon', 'purple', 'red', 'yellow', 'blue', 'black'], width=0.8)\n",
    "for i in range(len(estimators)):\n",
    "    plt.text(i, rf_scores[i], (estimators[i], rf_scores[i].round(2)))\n",
    "plt.xticks([i for i in range(len(estimators))], labels=[str(estimators[i] for i in estimators)])\n",
    "plt.title('Random Forest Regression Model score for different number of estimators')\n",
    "plt.xlabel('Number of Estimators')\n",
    "plt.ylabel('Mean Square Error')\n",
    "rf_score = rf_scores[6]"
   ]
  },
  {
   "cell_type": "code",
   "execution_count": 20,
   "metadata": {},
   "outputs": [
    {
     "name": "stdout",
     "output_type": "stream",
     "text": [
      "The mean sqaure error for Random Forest Regression Model is 575.07 with 5000 estimators.\n"
     ]
    }
   ],
   "source": [
    "print(\"The mean sqaure error for Random Forest Regression Model is {} with {} estimators.\".format(rf_scores[6].round(2), 5000))"
   ]
  },
  {
   "cell_type": "markdown",
   "metadata": {},
   "source": [
    "## Final Scores"
   ]
  },
  {
   "cell_type": "code",
   "execution_count": 21,
   "metadata": {},
   "outputs": [
    {
     "name": "stdout",
     "output_type": "stream",
     "text": [
      "The mean square error for Linear Regression Model is 92.89.\n",
      "The mean square error for Polynomial Regression Model is 100.89.\n",
      "The mean square error for Support Vector Regression Model is 93.36 with linear kernel.\n",
      "The mean sqaure error for Random Forest Regression Model is 575.07 with 5000 estimators.\n"
     ]
    }
   ],
   "source": [
    "print(\"The mean square error for Linear Regression Model is %.2f.\" %(lrm_score.round(2)))\n",
    "print(\"The mean square error for Polynomial Regression Model is %.2f.\" %(polynomial_scores[0].round(2)))\n",
    "print(\"The mean square error for Support Vector Regression Model is {} with {} kernel.\".format(svr_scores[0].round(2), 'linear'))\n",
    "print(\"The mean sqaure error for Random Forest Regression Model is {} with {} estimators.\".format(rf_scores[6].round(2), 5000))"
   ]
  },
  {
   "cell_type": "markdown",
   "metadata": {},
   "source": [
    "## Conclusion\n",
    "In this project, I applied machine learning models to predict the amount spent by a user on an E-Commerce Website. After importing the data, I used data visualization techniques for data exploration. Then, I applied 4 machine learning models namely Linear Regressor, Polynomial Regressor, Support Vector Regressor and Random Forest Regressor. I varied parameters in each model to achieve best scores. Finally, Linear Regression Model achieved the least mean square error of 92.89."
   ]
  },
  {
   "cell_type": "markdown",
   "metadata": {},
   "source": [
    "#### Final Model"
   ]
  },
  {
   "cell_type": "code",
   "execution_count": 22,
   "metadata": {},
   "outputs": [
    {
     "name": "stdout",
     "output_type": "stream",
     "text": [
      "Model Mean Square Error: 92.89\n"
     ]
    }
   ],
   "source": [
    "final_model = TransformedTargetRegressor(regressor = LinearRegression(), transformer = StandardScaler())\n",
    "final_model.fit(X_train, Y_train)\n",
    "predict = final_model.predict(X_test)\n",
    "final_model_score = mean_squared_error(Y_test, predict)\n",
    "print(f\"Model Mean Square Error: {final_model_score.round(2)}\")"
   ]
  },
  {
   "cell_type": "markdown",
   "metadata": {},
   "source": [
    "#### Predictor Function\n",
    "Creating a function that will later be used to predict the amount spent by a user on an E-Commerce Webiste using Linear Regression model."
   ]
  },
  {
   "cell_type": "code",
   "execution_count": 23,
   "metadata": {},
   "outputs": [],
   "source": [
    "def predict_now(lis):\n",
    "    lis = pd.DataFrame(lis)\n",
    "    return final_model.predict(lis).item()\n",
    "#lis = {'Avg. Session Length': [34.497268], 'Time on App': [12.655651], 'Time on Website': [39.577668], 'Length of Membership': [4.082621]}\n",
    "#predict_now(lis)"
   ]
  },
  {
   "cell_type": "markdown",
   "metadata": {},
   "source": [
    "## Amount Spent on E-Commerce Website Predictor Application\n",
    "In order to use the above created machine learning model to predict the amount spent by a user on an E-Commerce Webiste using Linear Regression model, we need to build a Graphical User Interface (GUI) wherein the user can enter the required data and get a prediction. I have done this using tkinter GUI of python."
   ]
  },
  {
   "cell_type": "markdown",
   "metadata": {},
   "source": [
    "#### Importing Libraries"
   ]
  },
  {
   "cell_type": "code",
   "execution_count": 24,
   "metadata": {},
   "outputs": [],
   "source": [
    "import tkinter as tk\n",
    "from tkinter import ttk"
   ]
  },
  {
   "cell_type": "markdown",
   "metadata": {},
   "source": [
    "#### Defining Required Functions"
   ]
  },
  {
   "cell_type": "code",
   "execution_count": 25,
   "metadata": {},
   "outputs": [],
   "source": [
    "def submit(*args):\n",
    "    try:\n",
    "        final = {\n",
    "            'Avg. Session Length': [float(user4.get())], \n",
    "            'Time on App': [float(user5.get())], \n",
    "            'Time on Website': [float(user6.get())], \n",
    "            'Length of Membership': [float(user7.get())],\n",
    "            }\n",
    "        result = predict_now(final)\n",
    "        this.set(f\"Predicted amount spent by the user on E-Commerce Website is {result}\")\n",
    "    except ValueError:\n",
    "        pass"
   ]
  },
  {
   "cell_type": "markdown",
   "metadata": {},
   "source": [
    "#### Setting Up the Window"
   ]
  },
  {
   "cell_type": "code",
   "execution_count": 26,
   "metadata": {},
   "outputs": [],
   "source": [
    "try:    \n",
    "    from ctypes import windll\n",
    "    windll.shcore.SetProcessDPIAwareness(1)\n",
    "except:\n",
    "    pass\n",
    "\n",
    "root = tk.Tk()\n",
    "root.title(\"Heart Disease Predictor\")\n",
    "\n",
    "user1 = tk.StringVar()\n",
    "user2 = tk.StringVar()\n",
    "user3 = tk.StringVar()\n",
    "user4 = tk.StringVar()\n",
    "user5 = tk.StringVar()\n",
    "user6 = tk.StringVar()\n",
    "user7 = tk.StringVar()\n",
    "this = tk.StringVar(value = \"Submit to get the result.\")\n",
    "\n",
    "main = ttk.Frame(root, padding = (30, 10))\n",
    "main.grid()"
   ]
  },
  {
   "cell_type": "markdown",
   "metadata": {},
   "source": [
    "#### Declaring Widgets"
   ]
  },
  {
   "cell_type": "code",
   "execution_count": 27,
   "metadata": {},
   "outputs": [],
   "source": [
    "label1 = ttk.Label(main, text = \"Enter the following details: \")\n",
    "label1.configure(font=(\"helvetica\", 15))\n",
    "label1.grid(row = 0, column = 0, sticky = \"w\")\n",
    "\n",
    "entry1 = ttk.Label(main, text = \"Email: \")\n",
    "user_input1 = ttk.Entry(main, width = 20, textvariable = user1)\n",
    "\n",
    "entry2 = ttk.Label(main, text = \"Address: \")\n",
    "user_input2 = ttk.Entry(main, width = 50, textvariable = user2)\n",
    "\n",
    "entry3 = ttk.Label(main, text = \"Avatar: \")\n",
    "user_input3 = ttk.Entry(main, width = 20, textvariable = user3)\n",
    "\n",
    "entry4 = ttk.Label(main, text = \"Avg. Session Length: \")\n",
    "user_input4 = ttk.Entry(main, width = 10, textvariable = user4)\n",
    "\n",
    "entry5 = ttk.Label(main, text = \"Time on App: \")\n",
    "user_input5 = ttk.Entry(main, width = 10, textvariable = user5)\n",
    "\n",
    "entry6 = ttk.Label(main, text = \"Time on Website: \")\n",
    "user_input6 = ttk.Entry(main, width = 10, textvariable = user6)\n",
    "\n",
    "entry7 = ttk.Label(main, text = \"Length of Membership: \")\n",
    "user_input7 = ttk.Entry(main, width = 10, textvariable = user7)\n",
    "\n",
    "button = ttk.Button(main, text = \"Submit\", command = submit)\n",
    "\n",
    "out = ttk.Label(main, textvariable = this)"
   ]
  },
  {
   "cell_type": "markdown",
   "metadata": {},
   "source": [
    "#### Displaying the Widgets"
   ]
  },
  {
   "cell_type": "code",
   "execution_count": 28,
   "metadata": {},
   "outputs": [],
   "source": [
    "entry1.grid(row = 1, column = 0, sticky = \"w\", padx = 10, pady = 10)\n",
    "user_input1.grid(row = 1, column = 1, sticky = \"ew\", padx = 10, pady = 10, columnspan = 4)\n",
    "user_input1.focus()\n",
    "\n",
    "entry2.grid(row = 2, column = 0, sticky = \"w\", padx = 10, pady = 10)\n",
    "user_input2.grid(row = 2, column = 1, sticky = \"ew\", padx = 10, pady = 10)\n",
    "\n",
    "entry3.grid(row = 3, column = 0, sticky = \"w\", padx = 10, pady = 10)\n",
    "user_input3.grid(row = 3, column = 1, sticky = \"ew\", padx = 10, pady = 10)\n",
    "\n",
    "entry4.grid(row = 4, column = 0, sticky = \"w\", padx = 10, pady = 10)\n",
    "user_input4.grid(row = 4, column = 1, sticky = \"ew\", padx = 10, pady = 10, columnspan = 4)\n",
    "\n",
    "entry5.grid(row = 5, column = 0, sticky = \"w\", padx = 10, pady = 10)\n",
    "user_input5.grid(row = 5, column = 1, sticky = \"ew\", padx = 10, pady = 10, columnspan = 4)\n",
    "\n",
    "entry6.grid(row = 6, column = 0, sticky = \"w\", padx = 10, pady = 10)\n",
    "user_input6.grid(row = 6, column = 1, sticky = \"ew\", padx = 10, pady = 10)\n",
    "\n",
    "entry7.grid(row = 7, column = 0, sticky = \"w\", padx = 10, pady = 10)\n",
    "user_input7.grid(row = 7, column = 1, sticky = \"ew\", padx = 10, pady = 10)\n",
    "\n",
    "button.grid(row = 8, column = 0, columnspan = 2, sticky = \"ew\", padx = 10, pady = 10)\n",
    "\n",
    "out.grid(row = 9, column = 0, columnspan = 2)\n",
    "\n",
    "root.mainloop()"
   ]
  }
 ],
 "metadata": {
  "kernelspec": {
   "display_name": "Python 3",
   "language": "python",
   "name": "python3"
  },
  "language_info": {
   "codemirror_mode": {
    "name": "ipython",
    "version": 3
   },
   "file_extension": ".py",
   "mimetype": "text/x-python",
   "name": "python",
   "nbconvert_exporter": "python",
   "pygments_lexer": "ipython3",
   "version": "3.7.6"
  }
 },
 "nbformat": 4,
 "nbformat_minor": 4
}
